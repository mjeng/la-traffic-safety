{
 "cells": [
  {
   "cell_type": "code",
   "execution_count": 151,
   "metadata": {},
   "outputs": [],
   "source": [
    "import pandas as pd\n",
    "import datetime"
   ]
  },
  {
   "cell_type": "code",
   "execution_count": 152,
   "metadata": {},
   "outputs": [],
   "source": [
    "doc_address = 'Traffic_Collision_Data_from_2010_to_Present.csv'\n",
    "traffic = pd.read_csv(doc_address)"
   ]
  },
  {
   "cell_type": "code",
   "execution_count": 153,
   "metadata": {},
   "outputs": [
    {
     "data": {
      "text/html": [
       "<div>\n",
       "<style scoped>\n",
       "    .dataframe tbody tr th:only-of-type {\n",
       "        vertical-align: middle;\n",
       "    }\n",
       "\n",
       "    .dataframe tbody tr th {\n",
       "        vertical-align: top;\n",
       "    }\n",
       "\n",
       "    .dataframe thead th {\n",
       "        text-align: right;\n",
       "    }\n",
       "</style>\n",
       "<table border=\"1\" class=\"dataframe\">\n",
       "  <thead>\n",
       "    <tr style=\"text-align: right;\">\n",
       "      <th></th>\n",
       "      <th>DR Number</th>\n",
       "      <th>Date Reported</th>\n",
       "      <th>Date Occurred</th>\n",
       "      <th>Time Occurred</th>\n",
       "      <th>Area ID</th>\n",
       "      <th>Area Name</th>\n",
       "      <th>Reporting District</th>\n",
       "      <th>Crime Code</th>\n",
       "      <th>Crime Code Description</th>\n",
       "      <th>MO Codes</th>\n",
       "      <th>Victim Age</th>\n",
       "      <th>Victim Sex</th>\n",
       "      <th>Victim Descent</th>\n",
       "      <th>Premise Code</th>\n",
       "      <th>Premise Description</th>\n",
       "      <th>Address</th>\n",
       "      <th>Cross Street</th>\n",
       "      <th>Location</th>\n",
       "    </tr>\n",
       "  </thead>\n",
       "  <tbody>\n",
       "    <tr>\n",
       "      <th>0</th>\n",
       "      <td>100119684</td>\n",
       "      <td>01/01/11042010</td>\n",
       "      <td>11/04/2010</td>\n",
       "      <td>1345</td>\n",
       "      <td>1</td>\n",
       "      <td>Central</td>\n",
       "      <td>159</td>\n",
       "      <td>997</td>\n",
       "      <td>TRAFFIC COLLISION</td>\n",
       "      <td>NaN</td>\n",
       "      <td>20.0</td>\n",
       "      <td>F</td>\n",
       "      <td>H</td>\n",
       "      <td>101.0</td>\n",
       "      <td>STREET</td>\n",
       "      <td>7TH                          ST</td>\n",
       "      <td>LAWRENCE                     ST</td>\n",
       "      <td>(34.0348, -118.2362)</td>\n",
       "    </tr>\n",
       "    <tr>\n",
       "      <th>1</th>\n",
       "      <td>101221255</td>\n",
       "      <td>01/01/8102010</td>\n",
       "      <td>08/10/2010</td>\n",
       "      <td>1900</td>\n",
       "      <td>12</td>\n",
       "      <td>77th Street</td>\n",
       "      <td>1211</td>\n",
       "      <td>997</td>\n",
       "      <td>TRAFFIC COLLISION</td>\n",
       "      <td>NaN</td>\n",
       "      <td>31.0</td>\n",
       "      <td>F</td>\n",
       "      <td>B</td>\n",
       "      <td>101.0</td>\n",
       "      <td>STREET</td>\n",
       "      <td>54TH                         ST</td>\n",
       "      <td>3RD                          AV</td>\n",
       "      <td>(33.9932, -118.3203)</td>\n",
       "    </tr>\n",
       "    <tr>\n",
       "      <th>2</th>\n",
       "      <td>101414426</td>\n",
       "      <td>01/01/6112010</td>\n",
       "      <td>06/09/2010</td>\n",
       "      <td>1925</td>\n",
       "      <td>14</td>\n",
       "      <td>Pacific</td>\n",
       "      <td>1488</td>\n",
       "      <td>997</td>\n",
       "      <td>TRAFFIC COLLISION</td>\n",
       "      <td>NaN</td>\n",
       "      <td>40.0</td>\n",
       "      <td>F</td>\n",
       "      <td>B</td>\n",
       "      <td>101.0</td>\n",
       "      <td>STREET</td>\n",
       "      <td>MANCHESTER                   BL</td>\n",
       "      <td>BELLANCA                     AV</td>\n",
       "      <td>(33.9599, -118.3805)</td>\n",
       "    </tr>\n",
       "    <tr>\n",
       "      <th>3</th>\n",
       "      <td>102109168</td>\n",
       "      <td>01/01/4062010</td>\n",
       "      <td>04/06/2010</td>\n",
       "      <td>1445</td>\n",
       "      <td>21</td>\n",
       "      <td>Topanga</td>\n",
       "      <td>2197</td>\n",
       "      <td>997</td>\n",
       "      <td>TRAFFIC COLLISION</td>\n",
       "      <td>1501</td>\n",
       "      <td>51.0</td>\n",
       "      <td>M</td>\n",
       "      <td>O</td>\n",
       "      <td>101.0</td>\n",
       "      <td>STREET</td>\n",
       "      <td>ROSITA                       AV</td>\n",
       "      <td>CORBIN                       AV</td>\n",
       "      <td>(34.1585, -118.5633)</td>\n",
       "    </tr>\n",
       "    <tr>\n",
       "      <th>4</th>\n",
       "      <td>100322445</td>\n",
       "      <td>01/01/9222010</td>\n",
       "      <td>05/23/2010</td>\n",
       "      <td>1805</td>\n",
       "      <td>3</td>\n",
       "      <td>Southwest</td>\n",
       "      <td>397</td>\n",
       "      <td>997</td>\n",
       "      <td>TRAFFIC COLLISION</td>\n",
       "      <td>NaN</td>\n",
       "      <td>32.0</td>\n",
       "      <td>F</td>\n",
       "      <td>H</td>\n",
       "      <td>101.0</td>\n",
       "      <td>STREET</td>\n",
       "      <td>43RD                         PL</td>\n",
       "      <td>WALTON                       AV</td>\n",
       "      <td>(34.0055, -118.2948)</td>\n",
       "    </tr>\n",
       "  </tbody>\n",
       "</table>\n",
       "</div>"
      ],
      "text/plain": [
       "   DR Number   Date Reported Date Occurred  Time Occurred  Area ID  \\\n",
       "0  100119684  01/01/11042010    11/04/2010           1345        1   \n",
       "1  101221255   01/01/8102010    08/10/2010           1900       12   \n",
       "2  101414426   01/01/6112010    06/09/2010           1925       14   \n",
       "3  102109168   01/01/4062010    04/06/2010           1445       21   \n",
       "4  100322445   01/01/9222010    05/23/2010           1805        3   \n",
       "\n",
       "     Area Name  Reporting District  Crime Code Crime Code Description  \\\n",
       "0      Central                 159         997      TRAFFIC COLLISION   \n",
       "1  77th Street                1211         997      TRAFFIC COLLISION   \n",
       "2      Pacific                1488         997      TRAFFIC COLLISION   \n",
       "3      Topanga                2197         997      TRAFFIC COLLISION   \n",
       "4    Southwest                 397         997      TRAFFIC COLLISION   \n",
       "\n",
       "  MO Codes  Victim Age Victim Sex Victim Descent  Premise Code  \\\n",
       "0      NaN        20.0          F              H         101.0   \n",
       "1      NaN        31.0          F              B         101.0   \n",
       "2      NaN        40.0          F              B         101.0   \n",
       "3     1501        51.0          M              O         101.0   \n",
       "4      NaN        32.0          F              H         101.0   \n",
       "\n",
       "  Premise Description                          Address  \\\n",
       "0              STREET  7TH                          ST   \n",
       "1              STREET  54TH                         ST   \n",
       "2              STREET  MANCHESTER                   BL   \n",
       "3              STREET  ROSITA                       AV   \n",
       "4              STREET  43RD                         PL   \n",
       "\n",
       "                      Cross Street              Location  \n",
       "0  LAWRENCE                     ST  (34.0348, -118.2362)  \n",
       "1  3RD                          AV  (33.9932, -118.3203)  \n",
       "2  BELLANCA                     AV  (33.9599, -118.3805)  \n",
       "3  CORBIN                       AV  (34.1585, -118.5633)  \n",
       "4  WALTON                       AV  (34.0055, -118.2948)  "
      ]
     },
     "execution_count": 153,
     "metadata": {},
     "output_type": "execute_result"
    }
   ],
   "source": [
    "traffic.head()"
   ]
  },
  {
   "cell_type": "code",
   "execution_count": 154,
   "metadata": {},
   "outputs": [
    {
     "data": {
      "text/plain": [
       "array(['DR Number', 'Date Reported', 'Date Occurred', 'Time Occurred',\n",
       "       'Area ID', 'Area Name', 'Reporting District', 'Crime Code',\n",
       "       'Crime Code Description', 'MO Codes', 'Victim Age', 'Victim Sex',\n",
       "       'Victim Descent', 'Premise Code', 'Premise Description', 'Address',\n",
       "       'Cross Street', 'Location'], dtype=object)"
      ]
     },
     "execution_count": 154,
     "metadata": {},
     "output_type": "execute_result"
    }
   ],
   "source": [
    "traffic.columns.values"
   ]
  },
  {
   "cell_type": "code",
   "execution_count": 155,
   "metadata": {},
   "outputs": [],
   "source": [
    "def keep_relevant_columns(dataframe):\n",
    "    return dataframe[['Date Occurred', 'Reporting District', 'Address', 'Cross Street', 'Location']]\n",
    "\n",
    "def split_location(dataframe):\n",
    "    latitude = dataframe['Location'].str.split(\",\", n = 1, expand=True)[0].str.strip(\"(\")\n",
    "    longitude = dataframe['Location'].str.split(\",\", n = 1, expand = True)[1].str.strip(\") \")\n",
    "    dataframe[\"Latitude\"] = latitude.astype(float)\n",
    "    dataframe[\"Longitude\"] = longitude.astype(float)\n",
    "    return dataframe.drop(['Location'],axis=1)\n",
    "\n",
    "def filter_date(dataframe):\n",
    "    dataframe['Date Occurred'] = pd.to_datetime(traffic['Date Occurred'], format='%m/%d/%Y')\n",
    "    start = datetime.datetime.strptime(\"01/01/2018\", \"%m/%d/%Y\")\n",
    "    return dataframe[dataframe['Date Occurred'] > start]\n",
    "\n",
    "def drop_nulls_zeroes(dataframe):\n",
    "    return dataframe.dropna()[dataframe['Latitude'] != 0]"
   ]
  },
  {
   "cell_type": "code",
   "execution_count": 156,
   "metadata": {},
   "outputs": [
    {
     "name": "stderr",
     "output_type": "stream",
     "text": [
      "/anaconda3/lib/python3.7/site-packages/ipykernel_launcher.py:7: SettingWithCopyWarning: \n",
      "A value is trying to be set on a copy of a slice from a DataFrame.\n",
      "Try using .loc[row_indexer,col_indexer] = value instead\n",
      "\n",
      "See the caveats in the documentation: http://pandas.pydata.org/pandas-docs/stable/indexing.html#indexing-view-versus-copy\n",
      "  import sys\n",
      "/anaconda3/lib/python3.7/site-packages/ipykernel_launcher.py:8: SettingWithCopyWarning: \n",
      "A value is trying to be set on a copy of a slice from a DataFrame.\n",
      "Try using .loc[row_indexer,col_indexer] = value instead\n",
      "\n",
      "See the caveats in the documentation: http://pandas.pydata.org/pandas-docs/stable/indexing.html#indexing-view-versus-copy\n",
      "  \n",
      "/anaconda3/lib/python3.7/site-packages/ipykernel_launcher.py:17: UserWarning: Boolean Series key will be reindexed to match DataFrame index.\n"
     ]
    }
   ],
   "source": [
    "traffic = (traffic.pipe(keep_relevant_columns)\n",
    "    .pipe(split_location)\n",
    "    .pipe(filter_date)\n",
    "          .pipe(drop_nulls_zeroes))\n"
   ]
  },
  {
   "cell_type": "code",
   "execution_count": 157,
   "metadata": {},
   "outputs": [
    {
     "data": {
      "text/plain": [
       "(65737, 6)"
      ]
     },
     "execution_count": 157,
     "metadata": {},
     "output_type": "execute_result"
    }
   ],
   "source": [
    "traffic = traffic.dropna()\n",
    "traffic.shape"
   ]
  },
  {
   "cell_type": "code",
   "execution_count": 158,
   "metadata": {},
   "outputs": [
    {
     "data": {
      "text/html": [
       "<div>\n",
       "<style scoped>\n",
       "    .dataframe tbody tr th:only-of-type {\n",
       "        vertical-align: middle;\n",
       "    }\n",
       "\n",
       "    .dataframe tbody tr th {\n",
       "        vertical-align: top;\n",
       "    }\n",
       "\n",
       "    .dataframe thead th {\n",
       "        text-align: right;\n",
       "    }\n",
       "</style>\n",
       "<table border=\"1\" class=\"dataframe\">\n",
       "  <thead>\n",
       "    <tr style=\"text-align: right;\">\n",
       "      <th></th>\n",
       "      <th>Date Occurred</th>\n",
       "      <th>Reporting District</th>\n",
       "      <th>Address</th>\n",
       "      <th>Cross Street</th>\n",
       "      <th>Latitude</th>\n",
       "      <th>Longitude</th>\n",
       "    </tr>\n",
       "  </thead>\n",
       "  <tbody>\n",
       "  </tbody>\n",
       "</table>\n",
       "</div>"
      ],
      "text/plain": [
       "Empty DataFrame\n",
       "Columns: [Date Occurred, Reporting District, Address, Cross Street, Latitude, Longitude]\n",
       "Index: []"
      ]
     },
     "execution_count": 158,
     "metadata": {},
     "output_type": "execute_result"
    }
   ],
   "source": [
    "traffic[traffic[\"Latitude\"] == 0]"
   ]
  },
  {
   "cell_type": "code",
   "execution_count": 159,
   "metadata": {},
   "outputs": [
    {
     "data": {
      "text/html": [
       "<div>\n",
       "<style scoped>\n",
       "    .dataframe tbody tr th:only-of-type {\n",
       "        vertical-align: middle;\n",
       "    }\n",
       "\n",
       "    .dataframe tbody tr th {\n",
       "        vertical-align: top;\n",
       "    }\n",
       "\n",
       "    .dataframe thead th {\n",
       "        text-align: right;\n",
       "    }\n",
       "</style>\n",
       "<table border=\"1\" class=\"dataframe\">\n",
       "  <thead>\n",
       "    <tr style=\"text-align: right;\">\n",
       "      <th></th>\n",
       "      <th>Date Occurred</th>\n",
       "      <th>Reporting District</th>\n",
       "      <th>Address</th>\n",
       "      <th>Cross Street</th>\n",
       "      <th>Latitude</th>\n",
       "      <th>Longitude</th>\n",
       "    </tr>\n",
       "  </thead>\n",
       "  <tbody>\n",
       "    <tr>\n",
       "      <th>353400</th>\n",
       "      <td>2018-01-13</td>\n",
       "      <td>702</td>\n",
       "      <td>GENESEE</td>\n",
       "      <td>MELROSE</td>\n",
       "      <td>34.0838</td>\n",
       "      <td>-118.3584</td>\n",
       "    </tr>\n",
       "    <tr>\n",
       "      <th>355623</th>\n",
       "      <td>2018-02-01</td>\n",
       "      <td>2129</td>\n",
       "      <td>WINNETKA                     AV</td>\n",
       "      <td>STRATHERN                    ST</td>\n",
       "      <td>34.2156</td>\n",
       "      <td>-118.5710</td>\n",
       "    </tr>\n",
       "    <tr>\n",
       "      <th>358371</th>\n",
       "      <td>2018-02-13</td>\n",
       "      <td>171</td>\n",
       "      <td>OLYMPIC</td>\n",
       "      <td>GEORGIA</td>\n",
       "      <td>34.0459</td>\n",
       "      <td>-118.2657</td>\n",
       "    </tr>\n",
       "    <tr>\n",
       "      <th>358566</th>\n",
       "      <td>2018-02-14</td>\n",
       "      <td>325</td>\n",
       "      <td>ADAMS</td>\n",
       "      <td>VERMONT</td>\n",
       "      <td>34.0328</td>\n",
       "      <td>-118.2915</td>\n",
       "    </tr>\n",
       "    <tr>\n",
       "      <th>359299</th>\n",
       "      <td>2018-02-11</td>\n",
       "      <td>473</td>\n",
       "      <td>WHITTIER</td>\n",
       "      <td>SOTO</td>\n",
       "      <td>34.0344</td>\n",
       "      <td>-118.2157</td>\n",
       "    </tr>\n",
       "  </tbody>\n",
       "</table>\n",
       "</div>"
      ],
      "text/plain": [
       "       Date Occurred  Reporting District                          Address  \\\n",
       "353400    2018-01-13                 702                          GENESEE   \n",
       "355623    2018-02-01                2129  WINNETKA                     AV   \n",
       "358371    2018-02-13                 171                          OLYMPIC   \n",
       "358566    2018-02-14                 325                            ADAMS   \n",
       "359299    2018-02-11                 473                         WHITTIER   \n",
       "\n",
       "                           Cross Street  Latitude  Longitude  \n",
       "353400                          MELROSE   34.0838  -118.3584  \n",
       "355623  STRATHERN                    ST   34.2156  -118.5710  \n",
       "358371                          GEORGIA   34.0459  -118.2657  \n",
       "358566                          VERMONT   34.0328  -118.2915  \n",
       "359299                             SOTO   34.0344  -118.2157  "
      ]
     },
     "execution_count": 159,
     "metadata": {},
     "output_type": "execute_result"
    }
   ],
   "source": [
    "traffic.head()"
   ]
  },
  {
   "cell_type": "code",
   "execution_count": 160,
   "metadata": {},
   "outputs": [
    {
     "data": {
      "text/plain": [
       "<matplotlib.axes._subplots.AxesSubplot at 0x1a05066a0>"
      ]
     },
     "execution_count": 160,
     "metadata": {},
     "output_type": "execute_result"
    },
    {
     "data": {
      "image/png": "[encoded data removed]",
      "text/plain": [
       "<Figure size 432x288 with 1 Axes>"
      ]
     },
     "metadata": {
      "needs_background": "light"
     },
     "output_type": "display_data"
    }
   ],
   "source": [
    "traffic.plot.scatter(y = \"Latitude\", x = \"Longitude\")"
   ]
  },
  {
   "cell_type": "code",
   "execution_count": 162,
   "metadata": {},
   "outputs": [],
   "source": [
    "traffic.to_csv(\"cleaned_2018_data.csv\")"
   ]
  },
  {
   "cell_type": "code",
   "execution_count": null,
   "metadata": {},
   "outputs": [],
   "source": []
  }
 ],
 "metadata": {
  "kernelspec": {
   "display_name": "Python 3",
   "language": "python",
   "name": "python3"
  },
  "language_info": {
   "codemirror_mode": {
    "name": "ipython",
    "version": 3
   },
   "file_extension": ".py",
   "mimetype": "text/x-python",
   "name": "python",
   "nbconvert_exporter": "python",
   "pygments_lexer": "ipython3",
   "version": "3.7.1"
  }
 },
 "nbformat": 4,
 "nbformat_minor": 2
}
